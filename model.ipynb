{
 "cells": [
  {
   "cell_type": "code",
   "execution_count": 1,
   "metadata": {
    "collapsed": false
   },
   "outputs": [],
   "source": [
    "import os\n",
    "import pandas as pd\n",
    "import numpy as np\n",
    "from sklearn.feature_extraction import DictVectorizer\n",
    "from sklearn.linear_model import LassoCV, ElasticNetCV, Lasso, LinearRegression\n",
    "from sklearn.svm import SVR\n",
    "from sklearn.grid_search import GridSearchCV\n",
    "from sklearn.cross_validation import KFold\n",
    "import matplotlib.pyplot as plt\n",
    "%matplotlib inline"
   ]
  },
  {
   "cell_type": "code",
   "execution_count": 2,
   "metadata": {
    "collapsed": false
   },
   "outputs": [],
   "source": [
    "data_files = [file for file in os.listdir() if file.endswith('_data.csv') and '2016' not in file]\n",
    "data_frames = [pd.read_csv(data_file) for data_file in data_files]\n",
    "final_data_frames = [pd.concat([data_frame.drop([\"Seed\"], axis = 1), pd.get_dummies(data_frame.Seed)], axis = 1)\\\n",
    "                     for data_frame in data_frames]"
   ]
  },
  {
   "cell_type": "code",
   "execution_count": 3,
   "metadata": {
    "collapsed": false
   },
   "outputs": [],
   "source": [
    "years = [i for i in range(2001, 2016)]\n",
    "test_year = 2004\n",
    "all_training_data = None\n",
    "training_data_list = [data for year, data in zip(years, final_data_frames) if year != test_year]\n",
    "test_df = final_data_frames[years.index(test_year)]\n",
    "training_df = pd.concat(training_data_list)\n",
    "train_X = training_df.drop(['Wins', 'Name'], axis = 1)\n",
    "train_y = training_df.Wins\n",
    "test_X = test_df.drop(['Wins', 'Name'], axis = 1)\n",
    "test_y = test_df.Wins"
   ]
  },
  {
   "cell_type": "code",
   "execution_count": 4,
   "metadata": {
    "collapsed": false
   },
   "outputs": [],
   "source": [
    "num_folds = 5\n",
    "def score_by_cross_validation(model):\n",
    "    folds = KFold(len(train_X), n_folds = num_folds)\n",
    "    model_score = 0\n",
    "    for train, test in folds:\n",
    "        current_fold_train_X = train_X.iloc[list(train), :]\n",
    "        current_fold_train_y = train_y.iloc[list(train)]\n",
    "        current_fold_test_X = train_X.iloc[list(test), :]\n",
    "        current_fold_test_y = train_y.iloc[list(test)]\n",
    "        model.fit(current_fold_train_X, current_fold_train_y)\n",
    "        print(model.score(current_fold_train_X, current_fold_train_y))\n",
    "        print(model.score(current_fold_test_X, current_fold_test_y))\n",
    "        model_score += model.score(current_fold_test_X, current_fold_test_y)\n",
    "    model_score /= num_folds\n",
    "    print(model_score)\n",
    "    return model_score"
   ]
  },
  {
   "cell_type": "code",
   "execution_count": 5,
   "metadata": {
    "collapsed": false
   },
   "outputs": [
    {
     "name": "stdout",
     "output_type": "stream",
     "text": [
      "0.605140766246\n",
      "0.484446489597\n",
      "0.610773169509\n",
      "0.481465636901\n",
      "0.584007675149\n",
      "-2046.36100442\n",
      "0.597706773993\n",
      "0.523245506102\n",
      "0.596333458036\n",
      "0.549253964125\n",
      "-408.864518565\n"
     ]
    },
    {
     "data": {
      "text/plain": [
       "-408.86451856528964"
      ]
     },
     "execution_count": 5,
     "metadata": {},
     "output_type": "execute_result"
    }
   ],
   "source": [
    "score_by_cross_validation(LinearRegression())"
   ]
  },
  {
   "cell_type": "code",
   "execution_count": 7,
   "metadata": {
    "collapsed": false
   },
   "outputs": [
    {
     "name": "stderr",
     "output_type": "stream",
     "text": [
      "/usr/local/lib/python3.4/site-packages/sklearn/linear_model/base.py:424: FutureWarning: elementwise comparison failed; returning scalar instead, but in the future will perform elementwise comparison\n",
      "  if precompute == 'auto':\n",
      "/usr/local/lib/python3.4/site-packages/sklearn/linear_model/base.py:424: FutureWarning: elementwise comparison failed; returning scalar instead, but in the future will perform elementwise comparison\n",
      "  if precompute == 'auto':\n",
      "/usr/local/lib/python3.4/site-packages/sklearn/linear_model/base.py:424: FutureWarning: elementwise comparison failed; returning scalar instead, but in the future will perform elementwise comparison\n",
      "  if precompute == 'auto':\n"
     ]
    },
    {
     "name": "stdout",
     "output_type": "stream",
     "text": [
      "0.543515859115\n",
      "0.431871041631\n",
      "0.528128770896\n",
      "0.451567899385\n",
      "0.524394195747\n",
      "0.44402947792\n",
      "0.522257482267"
     ]
    },
    {
     "name": "stderr",
     "output_type": "stream",
     "text": [
      "/usr/local/lib/python3.4/site-packages/sklearn/linear_model/base.py:424: FutureWarning: elementwise comparison failed; returning scalar instead, but in the future will perform elementwise comparison\n",
      "  if precompute == 'auto':\n",
      "/usr/local/lib/python3.4/site-packages/sklearn/linear_model/base.py:424: FutureWarning: elementwise comparison failed; returning scalar instead, but in the future will perform elementwise comparison\n",
      "  if precompute == 'auto':\n"
     ]
    },
    {
     "name": "stdout",
     "output_type": "stream",
     "text": [
      "\n",
      "0.486682157513\n",
      "0.504405339958\n",
      "0.500399524823\n",
      "0.462910020255\n"
     ]
    },
    {
     "data": {
      "text/plain": [
       "0.46291002025456329"
      ]
     },
     "execution_count": 7,
     "metadata": {},
     "output_type": "execute_result"
    }
   ],
   "source": [
    "score_by_cross_validation(LassoCV(max_iter = 10000))"
   ]
  },
  {
   "cell_type": "code",
   "execution_count": 21,
   "metadata": {
    "collapsed": false
   },
   "outputs": [
    {
     "name": "stderr",
     "output_type": "stream",
     "text": [
      "/usr/local/lib/python3.4/site-packages/sklearn/linear_model/base.py:424: FutureWarning: elementwise comparison failed; returning scalar instead, but in the future will perform elementwise comparison\n",
      "  if precompute == 'auto':\n",
      "/usr/local/lib/python3.4/site-packages/sklearn/linear_model/coordinate_descent.py:444: ConvergenceWarning: Objective did not converge. You might want to increase the number of iterations\n",
      "  ConvergenceWarning)\n"
     ]
    },
    {
     "name": "stdout",
     "output_type": "stream",
     "text": [
      "0.589112389655\n",
      "0.452767805046\n",
      "0.593078318658"
     ]
    },
    {
     "name": "stderr",
     "output_type": "stream",
     "text": [
      "/usr/local/lib/python3.4/site-packages/sklearn/linear_model/base.py:424: FutureWarning: elementwise comparison failed; returning scalar instead, but in the future will perform elementwise comparison\n",
      "  if precompute == 'auto':\n",
      "/usr/local/lib/python3.4/site-packages/sklearn/linear_model/base.py:424: FutureWarning: elementwise comparison failed; returning scalar instead, but in the future will perform elementwise comparison\n",
      "  if precompute == 'auto':\n",
      "/usr/local/lib/python3.4/site-packages/sklearn/linear_model/coordinate_descent.py:444: ConvergenceWarning: Objective did not converge. You might want to increase the number of iterations\n",
      "  ConvergenceWarning)\n",
      "/usr/local/lib/python3.4/site-packages/sklearn/linear_model/coordinate_descent.py:444: ConvergenceWarning: Objective did not converge. You might want to increase the number of iterations\n",
      "  ConvergenceWarning)\n"
     ]
    },
    {
     "name": "stdout",
     "output_type": "stream",
     "text": [
      "\n",
      "0.478570527752\n",
      "0.575717272738"
     ]
    },
    {
     "name": "stderr",
     "output_type": "stream",
     "text": [
      "/usr/local/lib/python3.4/site-packages/sklearn/linear_model/base.py:424: FutureWarning: elementwise comparison failed; returning scalar instead, but in the future will perform elementwise comparison\n",
      "  if precompute == 'auto':\n",
      "/usr/local/lib/python3.4/site-packages/sklearn/linear_model/coordinate_descent.py:444: ConvergenceWarning: Objective did not converge. You might want to increase the number of iterations\n",
      "  ConvergenceWarning)\n"
     ]
    },
    {
     "name": "stdout",
     "output_type": "stream",
     "text": [
      "\n",
      "-6.34376568834\n",
      "0.585846342001"
     ]
    },
    {
     "name": "stderr",
     "output_type": "stream",
     "text": [
      "/usr/local/lib/python3.4/site-packages/sklearn/linear_model/base.py:424: FutureWarning: elementwise comparison failed; returning scalar instead, but in the future will perform elementwise comparison\n",
      "  if precompute == 'auto':\n",
      "/usr/local/lib/python3.4/site-packages/sklearn/linear_model/coordinate_descent.py:444: ConvergenceWarning: Objective did not converge. You might want to increase the number of iterations\n",
      "  ConvergenceWarning)\n"
     ]
    },
    {
     "name": "stdout",
     "output_type": "stream",
     "text": [
      "\n",
      "0.532816207087\n",
      "0.585223084505\n",
      "0.543915449768\n",
      "-0.867139139736\n"
     ]
    },
    {
     "data": {
      "text/plain": [
       "-0.86713913973649481"
      ]
     },
     "execution_count": 21,
     "metadata": {},
     "output_type": "execute_result"
    }
   ],
   "source": [
    "score_by_cross_validation(LassoCV(max_iter = 100000, alphas = np.logspace(-4, -0.5, 30)))"
   ]
  },
  {
   "cell_type": "code",
   "execution_count": 13,
   "metadata": {
    "collapsed": false
   },
   "outputs": [],
   "source": [
    "def check_results(year, model, verbose = 0): \n",
    "    years = [i for i in range(2001, 2016)]\n",
    "    test_year = year\n",
    "    all_training_data = None\n",
    "    training_data_list = [data for year, data in zip(years, final_data_frames) if year != test_year]\n",
    "    test_df = final_data_frames[years.index(test_year)]\n",
    "    training_df = pd.concat(training_data_list)\n",
    "    train_X = training_df.drop(['Wins', 'Name'], axis = 1)\n",
    "    train_y = training_df.Wins\n",
    "    test_X = test_df.drop(['Wins', 'Name'], axis = 1)\n",
    "    test_y = test_df.Wins\n",
    "    model.fit(train_X, train_y)\n",
    "    if verbose > 0:\n",
    "        print(model.score(train_X, train_y))\n",
    "    mapping = {list(test_df.Name)[i] : list(model.predict(test_X))[i] for i in range(len(list(test_df.Name)))}\n",
    "    actual_results_name = \"tournament-results/%d_real_results.txt\" % test_year\n",
    "    actual_results_file = open(actual_results_name)\n",
    "    lines = actual_results_file.readlines()\n",
    "    first_line = lines[0].strip()\n",
    "    actual_results_file.close()\n",
    "    rounds = [first_line.split(\", \")]\n",
    "    while len(rounds[-1]) != 1:\n",
    "        new_list = []\n",
    "        for i in range(len(rounds[-1])):\n",
    "            if i % 2 == 0:\n",
    "                first_score = mapping[rounds[-1][i]]\n",
    "                second_score = mapping[rounds[-1][i + 1]]\n",
    "                if first_score > second_score:\n",
    "                    new_list.append(rounds[-1][i])\n",
    "                else:\n",
    "                    new_list.append(rounds[-1][i + 1])\n",
    "        rounds.append(new_list)\n",
    "    mistakes = 0\n",
    "    for i in range(len(rounds[1:])):\n",
    "        round_mistakes = 0\n",
    "        predictions = rounds[i + 1]\n",
    "        actuals = lines[i + 1].strip().split(\", \")\n",
    "        for prediction, actual in zip(predictions, actuals):\n",
    "            if prediction != actual:\n",
    "                if verbose > 0:\n",
    "                    print(\"Predicted: %s; Actual: %s\" % (prediction, actual))\n",
    "                round_mistakes += 1\n",
    "        if verbose > 0:\n",
    "            print(\"%d: %d\" % (2 ** (6 - i), round_mistakes))\n",
    "        mistakes += round_mistakes\n",
    "    if verbose > 0:\n",
    "        print(mistakes)\n",
    "    if verbose > 1:\n",
    "        print(np.column_stack([model.predict(test_X),\\\n",
    "                               test_df.Name, test_df.Wins]))\n",
    "    return mistakes"
   ]
  },
  {
   "cell_type": "code",
   "execution_count": 10,
   "metadata": {
    "collapsed": false
   },
   "outputs": [
    {
     "name": "stdout",
     "output_type": "stream",
     "text": [
      "2010\n",
      "0.482104032306\n",
      "Predicted: Utah State; Actual: Texas A&M\n",
      "Predicted: Texas; Actual: Wake Forest\n",
      "Predicted: UNLV; Actual: Northern Iowa\n",
      "64: 3\n",
      "Predicted: Utah State; Actual: Purdue\n",
      "Predicted: Kansas; Actual: Northern Iowa\n",
      "Predicted: Murray State; Actual: Butler\n",
      "Predicted: BYU; Actual: Kansas State\n",
      "32: 4\n",
      "Predicted: Kansas; Actual: Michigan State\n",
      "Predicted: Ohio State; Actual: Tennessee\n",
      "Predicted: Syracuse; Actual: Butler\n",
      "Predicted: BYU; Actual: Kansas State\n",
      "16: 4\n",
      "Predicted: Kentucky; Actual: West Virginia\n",
      "Predicted: Kansas; Actual: Michigan State\n",
      "Predicted: BYU; Actual: Butler\n",
      "8: 3\n",
      "Predicted: Kansas; Actual: Butler\n",
      "4: 1\n",
      "2: 0\n",
      "15\n"
     ]
    },
    {
     "name": "stderr",
     "output_type": "stream",
     "text": [
      "/usr/local/lib/python3.4/site-packages/sklearn/linear_model/base.py:424: FutureWarning: elementwise comparison failed; returning scalar instead, but in the future will perform elementwise comparison\n",
      "  if precompute == 'auto':\n"
     ]
    },
    {
     "data": {
      "text/plain": [
       "15"
      ]
     },
     "execution_count": 10,
     "metadata": {},
     "output_type": "execute_result"
    }
   ],
   "source": [
    "check_results(2010, LassoCV(max_iter = 10000), verbose = 1)"
   ]
  },
  {
   "cell_type": "code",
   "execution_count": 11,
   "metadata": {
    "collapsed": false
   },
   "outputs": [
    {
     "name": "stdout",
     "output_type": "stream",
     "text": [
      "2010\n",
      "0.590856334988\n",
      "Predicted: Utah State; Actual: Texas A&M\n",
      "Predicted: Richmond; Actual: Saint Mary's (CA)\n",
      "Predicted: Texas; Actual: Wake Forest\n",
      "Predicted: Temple; Actual: Cornell\n",
      "Predicted: Georgetown; Actual: Ohio\n",
      "Predicted: Vanderbilt; Actual: Murray State\n",
      "64: 6\n",
      "Predicted: Richmond; Actual: Saint Mary's (CA)\n",
      "Predicted: Temple; Actual: Cornell\n",
      "Predicted: New Mexico; Actual: Washington\n",
      "Predicted: Kansas; Actual: Northern Iowa\n",
      "Predicted: BYU; Actual: Kansas State\n",
      "32: 5\n",
      "Predicted: Kansas; Actual: Michigan State\n",
      "Predicted: Syracuse; Actual: Butler\n",
      "Predicted: BYU; Actual: Kansas State\n",
      "16: 3\n",
      "Predicted: Kentucky; Actual: West Virginia\n",
      "Predicted: Kansas; Actual: Michigan State\n",
      "Predicted: Syracuse; Actual: Butler\n",
      "8: 3\n",
      "Predicted: Kansas; Actual: Butler\n",
      "4: 1\n",
      "2: 0\n",
      "18\n"
     ]
    },
    {
     "data": {
      "text/plain": [
       "18"
      ]
     },
     "execution_count": 11,
     "metadata": {},
     "output_type": "execute_result"
    }
   ],
   "source": [
    "check_results(2010, LinearRegression(), verbose = 1)"
   ]
  },
  {
   "cell_type": "code",
   "execution_count": 22,
   "metadata": {
    "collapsed": false
   },
   "outputs": [
    {
     "name": "stderr",
     "output_type": "stream",
     "text": [
      "/usr/local/lib/python3.4/site-packages/sklearn/linear_model/base.py:424: FutureWarning: elementwise comparison failed; returning scalar instead, but in the future will perform elementwise comparison\n",
      "  if precompute == 'auto':\n",
      "/usr/local/lib/python3.4/site-packages/sklearn/linear_model/base.py:424: FutureWarning: elementwise comparison failed; returning scalar instead, but in the future will perform elementwise comparison\n",
      "  if precompute == 'auto':\n",
      "/usr/local/lib/python3.4/site-packages/sklearn/linear_model/base.py:424: FutureWarning: elementwise comparison failed; returning scalar instead, but in the future will perform elementwise comparison\n",
      "  if precompute == 'auto':\n",
      "/usr/local/lib/python3.4/site-packages/sklearn/linear_model/base.py:424: FutureWarning: elementwise comparison failed; returning scalar instead, but in the future will perform elementwise comparison\n",
      "  if precompute == 'auto':\n",
      "/usr/local/lib/python3.4/site-packages/sklearn/linear_model/base.py:424: FutureWarning: elementwise comparison failed; returning scalar instead, but in the future will perform elementwise comparison\n",
      "  if precompute == 'auto':\n",
      "/usr/local/lib/python3.4/site-packages/sklearn/linear_model/base.py:424: FutureWarning: elementwise comparison failed; returning scalar instead, but in the future will perform elementwise comparison\n",
      "  if precompute == 'auto':\n",
      "/usr/local/lib/python3.4/site-packages/sklearn/linear_model/base.py:424: FutureWarning: elementwise comparison failed; returning scalar instead, but in the future will perform elementwise comparison\n",
      "  if precompute == 'auto':\n",
      "/usr/local/lib/python3.4/site-packages/sklearn/linear_model/base.py:424: FutureWarning: elementwise comparison failed; returning scalar instead, but in the future will perform elementwise comparison\n",
      "  if precompute == 'auto':\n",
      "/usr/local/lib/python3.4/site-packages/sklearn/linear_model/base.py:424: FutureWarning: elementwise comparison failed; returning scalar instead, but in the future will perform elementwise comparison\n",
      "  if precompute == 'auto':\n",
      "/usr/local/lib/python3.4/site-packages/sklearn/linear_model/base.py:424: FutureWarning: elementwise comparison failed; returning scalar instead, but in the future will perform elementwise comparison\n",
      "  if precompute == 'auto':\n",
      "/usr/local/lib/python3.4/site-packages/sklearn/linear_model/base.py:424: FutureWarning: elementwise comparison failed; returning scalar instead, but in the future will perform elementwise comparison\n",
      "  if precompute == 'auto':\n",
      "/usr/local/lib/python3.4/site-packages/sklearn/linear_model/base.py:424: FutureWarning: elementwise comparison failed; returning scalar instead, but in the future will perform elementwise comparison\n",
      "  if precompute == 'auto':\n",
      "/usr/local/lib/python3.4/site-packages/sklearn/linear_model/base.py:424: FutureWarning: elementwise comparison failed; returning scalar instead, but in the future will perform elementwise comparison\n",
      "  if precompute == 'auto':\n",
      "/usr/local/lib/python3.4/site-packages/sklearn/linear_model/base.py:424: FutureWarning: elementwise comparison failed; returning scalar instead, but in the future will perform elementwise comparison\n",
      "  if precompute == 'auto':\n",
      "/usr/local/lib/python3.4/site-packages/sklearn/linear_model/base.py:424: FutureWarning: elementwise comparison failed; returning scalar instead, but in the future will perform elementwise comparison\n",
      "  if precompute == 'auto':\n",
      "/usr/local/lib/python3.4/site-packages/sklearn/linear_model/base.py:424: FutureWarning: elementwise comparison failed; returning scalar instead, but in the future will perform elementwise comparison\n",
      "  if precompute == 'auto':\n",
      "/usr/local/lib/python3.4/site-packages/sklearn/linear_model/coordinate_descent.py:444: ConvergenceWarning: Objective did not converge. You might want to increase the number of iterations\n",
      "  ConvergenceWarning)\n",
      "/usr/local/lib/python3.4/site-packages/sklearn/linear_model/base.py:424: FutureWarning: elementwise comparison failed; returning scalar instead, but in the future will perform elementwise comparison\n",
      "  if precompute == 'auto':\n",
      "/usr/local/lib/python3.4/site-packages/sklearn/linear_model/coordinate_descent.py:444: ConvergenceWarning: Objective did not converge. You might want to increase the number of iterations\n",
      "  ConvergenceWarning)\n",
      "/usr/local/lib/python3.4/site-packages/sklearn/linear_model/base.py:424: FutureWarning: elementwise comparison failed; returning scalar instead, but in the future will perform elementwise comparison\n",
      "  if precompute == 'auto':\n",
      "/usr/local/lib/python3.4/site-packages/sklearn/linear_model/coordinate_descent.py:444: ConvergenceWarning: Objective did not converge. You might want to increase the number of iterations\n",
      "  ConvergenceWarning)\n",
      "/usr/local/lib/python3.4/site-packages/sklearn/linear_model/base.py:424: FutureWarning: elementwise comparison failed; returning scalar instead, but in the future will perform elementwise comparison\n",
      "  if precompute == 'auto':\n",
      "/usr/local/lib/python3.4/site-packages/sklearn/linear_model/coordinate_descent.py:444: ConvergenceWarning: Objective did not converge. You might want to increase the number of iterations\n",
      "  ConvergenceWarning)\n",
      "/usr/local/lib/python3.4/site-packages/sklearn/linear_model/base.py:424: FutureWarning: elementwise comparison failed; returning scalar instead, but in the future will perform elementwise comparison\n",
      "  if precompute == 'auto':\n",
      "/usr/local/lib/python3.4/site-packages/sklearn/linear_model/coordinate_descent.py:444: ConvergenceWarning: Objective did not converge. You might want to increase the number of iterations\n",
      "  ConvergenceWarning)\n",
      "/usr/local/lib/python3.4/site-packages/sklearn/linear_model/base.py:424: FutureWarning: elementwise comparison failed; returning scalar instead, but in the future will perform elementwise comparison\n",
      "  if precompute == 'auto':\n",
      "/usr/local/lib/python3.4/site-packages/sklearn/linear_model/coordinate_descent.py:444: ConvergenceWarning: Objective did not converge. You might want to increase the number of iterations\n",
      "  ConvergenceWarning)\n",
      "/usr/local/lib/python3.4/site-packages/sklearn/linear_model/base.py:424: FutureWarning: elementwise comparison failed; returning scalar instead, but in the future will perform elementwise comparison\n",
      "  if precompute == 'auto':\n",
      "/usr/local/lib/python3.4/site-packages/sklearn/linear_model/coordinate_descent.py:444: ConvergenceWarning: Objective did not converge. You might want to increase the number of iterations\n",
      "  ConvergenceWarning)\n",
      "/usr/local/lib/python3.4/site-packages/sklearn/linear_model/base.py:424: FutureWarning: elementwise comparison failed; returning scalar instead, but in the future will perform elementwise comparison\n",
      "  if precompute == 'auto':\n",
      "/usr/local/lib/python3.4/site-packages/sklearn/linear_model/coordinate_descent.py:444: ConvergenceWarning: Objective did not converge. You might want to increase the number of iterations\n",
      "  ConvergenceWarning)\n",
      "/usr/local/lib/python3.4/site-packages/sklearn/linear_model/base.py:424: FutureWarning: elementwise comparison failed; returning scalar instead, but in the future will perform elementwise comparison\n",
      "  if precompute == 'auto':\n",
      "/usr/local/lib/python3.4/site-packages/sklearn/linear_model/coordinate_descent.py:444: ConvergenceWarning: Objective did not converge. You might want to increase the number of iterations\n",
      "  ConvergenceWarning)\n",
      "/usr/local/lib/python3.4/site-packages/sklearn/linear_model/base.py:424: FutureWarning: elementwise comparison failed; returning scalar instead, but in the future will perform elementwise comparison\n",
      "  if precompute == 'auto':\n",
      "/usr/local/lib/python3.4/site-packages/sklearn/linear_model/coordinate_descent.py:444: ConvergenceWarning: Objective did not converge. You might want to increase the number of iterations\n",
      "  ConvergenceWarning)\n",
      "/usr/local/lib/python3.4/site-packages/sklearn/linear_model/base.py:424: FutureWarning: elementwise comparison failed; returning scalar instead, but in the future will perform elementwise comparison\n",
      "  if precompute == 'auto':\n",
      "/usr/local/lib/python3.4/site-packages/sklearn/linear_model/coordinate_descent.py:444: ConvergenceWarning: Objective did not converge. You might want to increase the number of iterations\n",
      "  ConvergenceWarning)\n",
      "/usr/local/lib/python3.4/site-packages/sklearn/linear_model/base.py:424: FutureWarning: elementwise comparison failed; returning scalar instead, but in the future will perform elementwise comparison\n",
      "  if precompute == 'auto':\n",
      "/usr/local/lib/python3.4/site-packages/sklearn/linear_model/coordinate_descent.py:444: ConvergenceWarning: Objective did not converge. You might want to increase the number of iterations\n",
      "  ConvergenceWarning)\n",
      "/usr/local/lib/python3.4/site-packages/sklearn/linear_model/base.py:424: FutureWarning: elementwise comparison failed; returning scalar instead, but in the future will perform elementwise comparison\n",
      "  if precompute == 'auto':\n",
      "/usr/local/lib/python3.4/site-packages/sklearn/linear_model/coordinate_descent.py:444: ConvergenceWarning: Objective did not converge. You might want to increase the number of iterations\n",
      "  ConvergenceWarning)\n",
      "/usr/local/lib/python3.4/site-packages/sklearn/linear_model/base.py:424: FutureWarning: elementwise comparison failed; returning scalar instead, but in the future will perform elementwise comparison\n",
      "  if precompute == 'auto':\n",
      "/usr/local/lib/python3.4/site-packages/sklearn/linear_model/coordinate_descent.py:444: ConvergenceWarning: Objective did not converge. You might want to increase the number of iterations\n",
      "  ConvergenceWarning)\n",
      "/usr/local/lib/python3.4/site-packages/sklearn/linear_model/base.py:424: FutureWarning: elementwise comparison failed; returning scalar instead, but in the future will perform elementwise comparison\n",
      "  if precompute == 'auto':\n"
     ]
    },
    {
     "name": "stdout",
     "output_type": "stream",
     "text": [
      "[11, 18, 9, 14, 17, 19, 12, 12, 11, 18, 16, 13, 13, 18, 12]\n",
      "[9, 15, 12, 10, 17, 19, 12, 14, 12, 15, 19, 10, 10, 14, 12]\n",
      "[8, 15, 12, 10, 13, 17, 10, 12, 10, 15, 19, 12, 10, 12, 11]\n"
     ]
    },
    {
     "name": "stderr",
     "output_type": "stream",
     "text": [
      "/usr/local/lib/python3.4/site-packages/sklearn/linear_model/coordinate_descent.py:444: ConvergenceWarning: Objective did not converge. You might want to increase the number of iterations\n",
      "  ConvergenceWarning)\n"
     ]
    }
   ],
   "source": [
    "over_the_years_LR = [check_results(i, LinearRegression()) for i in range(2001,2016)]\n",
    "over_the_years_Lasso = [check_results(i, LassoCV(max_iter = 10000)) for i in range(2001, 2016)]\n",
    "over_the_years_Lasso_plus = [check_results(i, LassoCV(max_iter = 100000, alphas = np.logspace(-4, -0.5, 30))) for i in range(2001, 2016)]\n",
    "print(over_the_years_LR)\n",
    "print(over_the_years_Lasso)\n",
    "print(over_the_years_Lasso_plus)"
   ]
  },
  {
   "cell_type": "code",
   "execution_count": 23,
   "metadata": {
    "collapsed": false
   },
   "outputs": [
    {
     "name": "stdout",
     "output_type": "stream",
     "text": [
      "14.2 3.08112533554\n",
      "13.3333333333 3.09120616517\n",
      "12.4 2.87054001888\n"
     ]
    }
   ],
   "source": [
    "print(np.mean(over_the_years_LR), np.std(over_the_years_LR))\n",
    "print(np.mean(over_the_years_Lasso), np.std(over_the_years_Lasso))\n",
    "print(np.mean(over_the_years_Lasso_plus), np.std(over_the_years_Lasso_plus))"
   ]
  },
  {
   "cell_type": "code",
   "execution_count": 24,
   "metadata": {
    "collapsed": false
   },
   "outputs": [
    {
     "name": "stdout",
     "output_type": "stream",
     "text": [
      "0.503661622651\n",
      "[[1.308452888797424 'Arizona' 0]\n",
      " [0.5814627819292673 'Arkansas-Little Rock' 0]\n",
      " [0.10607442961509772 'Austin Peay' 0]\n",
      " [1.084242393075904 'Baylor' 0]\n",
      " [0.4733439823165062 'Buffalo' 0]\n",
      " [0.5913843945804986 'Butler' 0]\n",
      " [0.23932352935100765 'Cal State Bakersfield' 0]\n",
      " [0.9104190440714488 'University of California' 0]\n",
      " [0.73105308532236 'Chattanooga' 0]\n",
      " [0.8542408587270565 'Cincinnati' 0]\n",
      " [0.9397845411417904 'Colorado' 0]\n",
      " [1.2479056472214323 'UConn' 0]\n",
      " [0.588326662478293 'Dayton' 0]\n",
      " [1.162870949502107 'Duke' 0]\n",
      " [0.5349273828619552 'Florida Gulf Coast' 0]\n",
      " [0.7406891147601762 'Fresno State' 0]\n",
      " [1.2609091059147888 'Gonzaga' 0]\n",
      " [0.9092312782810659 'Green Bay' 0]\n",
      " [-0.5600232163253263 'Hampton' 0]\n",
      " [0.5230516137695069 'Hawaii' 0]\n",
      " [-0.9889702398589817 'Holy Cross' 0]\n",
      " [1.2302354983953512 'Indiana' 0]\n",
      " [0.3646497752446205 'Iona' 0]\n",
      " [1.0558911215931515 'Iowa State' 0]\n",
      " [0.7749946762116435 'Iowa' 0]\n",
      " [1.8634335361583014 'Kansas' 0]\n",
      " [1.541033732212525 'Kentucky' 0]\n",
      " [1.1144454833716217 'Maryland' 0]\n",
      " [0.8903282531929628 'Miami (FL)' 0]\n",
      " [2.0120685817964867 'Michigan State' 0]\n",
      " [0.8776669126667649 'Michigan' 0]\n",
      " [0.23765482446457753 'Middle Tennessee' 0]\n",
      " [0.3585734016541764 'North Carolina-Asheville' 0]\n",
      " [0.5004143220309833 'North Carolina-Wilmington' 0]\n",
      " [2.019232712581063 'UNC' 0]\n",
      " [0.3666909222871939 'Northern Iowa' 0]\n",
      " [0.6626728132807136 'Notre Dame' 0]\n",
      " [1.2644946660919274 'Oklahoma' 0]\n",
      " [0.08470948594366856 'Oregon State' 0]\n",
      " [1.4155163667310404 'Oregon' 0]\n",
      " [0.7597899801035144 'Pitt' 0]\n",
      " [0.6817726173624363 'Providence' 0]\n",
      " [1.6513311060689349 'Purdue' 0]\n",
      " [1.098526592105193 \"St. Joseph's\" 0]\n",
      " [1.0117030090503913 'Seton Hall' 0]\n",
      " [0.5217304350697289 'South Dakota State' 0]\n",
      " [1.0216485785809795 'USC' 0]\n",
      " [0.7158788191463596 'Stephen F. Austin' 0]\n",
      " [0.5141782312666896 'Stony Brook' 0]\n",
      " [0.4174758817416633 'Syracuse' 0]\n",
      " [0.2203507494206436 'Temple' 0]\n",
      " [1.3958805631789275 'Texas A&M' 0]\n",
      " [0.13888255828895169 'Texas Tech' 0]\n",
      " [0.37104961572107165 'Texas' 0]\n",
      " [1.2894789079778004 'Utah' 0]\n",
      " [1.5992612820136207 'Villanova' 0]\n",
      " [1.2266378092595476 'VCU' 0]\n",
      " [1.0653696378036512 'Virginia' 0]\n",
      " [0.4228119398252552 'Weber State' 0]\n",
      " [1.6014374733907513 'West Virginia' 0]\n",
      " [1.014290417374757 'Wichita State' 0]\n",
      " [0.29638148451650803 'Wisconsin' 0]\n",
      " [1.1889425743673616 'Xavier' 0]\n",
      " [-0.2814212691346736 'Yale' 0]]\n"
     ]
    },
    {
     "name": "stderr",
     "output_type": "stream",
     "text": [
      "/usr/local/lib/python3.4/site-packages/sklearn/linear_model/base.py:424: FutureWarning: elementwise comparison failed; returning scalar instead, but in the future will perform elementwise comparison\n",
      "  if precompute == 'auto':\n"
     ]
    }
   ],
   "source": [
    "years = [i for i in range(2001, 2016)]\n",
    "training_data_list = [data for year, data in zip(years, final_data_frames)]\n",
    "data_frame = pd.read_csv(\"2016_data.csv\")\n",
    "extra = pd.get_dummies(data_frame.Seed)\n",
    "test_df = pd.concat([data_frame.drop([\"Seed\"], axis = 1), extra], axis = 1)\n",
    "training_df = pd.concat(training_data_list)\n",
    "win_model = LassoCV(max_iter = 10000)\n",
    "train_X = training_df.drop(['Wins', 'Name'], axis = 1)\n",
    "train_y = training_df.Wins\n",
    "win_model.fit(train_X, train_y)\n",
    "print(win_model.score(train_X, train_y))\n",
    "test_X = test_df.drop(['Wins', 'Name'], axis = 1)\n",
    "test_y = test_df.Wins\n",
    "print(np.column_stack([win_model.predict(test_X),\\\n",
    "                       test_df.Name, test_df.Wins]))"
   ]
  },
  {
   "cell_type": "code",
   "execution_count": 25,
   "metadata": {
    "collapsed": false
   },
   "outputs": [
    {
     "name": "stderr",
     "output_type": "stream",
     "text": [
      "/usr/local/lib/python3.4/site-packages/sklearn/linear_model/base.py:424: FutureWarning: elementwise comparison failed; returning scalar instead, but in the future will perform elementwise comparison\n",
      "  if precompute == 'auto':\n",
      "/usr/local/lib/python3.4/site-packages/sklearn/linear_model/coordinate_descent.py:444: ConvergenceWarning: Objective did not converge. You might want to increase the number of iterations\n",
      "  ConvergenceWarning)\n"
     ]
    },
    {
     "name": "stdout",
     "output_type": "stream",
     "text": [
      "0.512526809052\n",
      "[[1.2659766094962226 'Arizona' 0]\n",
      " [0.614731686494765 'Arkansas-Little Rock' 0]\n",
      " [0.04182261931805131 'Austin Peay' 0]\n",
      " [1.066256887106836 'Baylor' 0]\n",
      " [0.41969493901481325 'Buffalo' 0]\n",
      " [0.5341659124236422 'Butler' 0]\n",
      " [0.19456493232198468 'Cal State Bakersfield' 0]\n",
      " [0.8747514385318231 'University of California' 0]\n",
      " [0.7462583187324014 'Chattanooga' 0]\n",
      " [0.8091836375203503 'Cincinnati' 0]\n",
      " [0.9094797734191555 'Colorado' 0]\n",
      " [1.238656313778323 'UConn' 0]\n",
      " [0.5853152468999294 'Dayton' 0]\n",
      " [1.1199053021453027 'Duke' 0]\n",
      " [0.4626165873079904 'Florida Gulf Coast' 0]\n",
      " [0.7392768101419982 'Fresno State' 0]\n",
      " [1.233121342517478 'Gonzaga' 0]\n",
      " [0.8355941533611997 'Green Bay' 0]\n",
      " [-0.6396384006241727 'Hampton' 0]\n",
      " [0.49528309621272015 'Hawaii' 0]\n",
      " [-1.0502392112242243 'Holy Cross' 0]\n",
      " [1.1877024503231457 'Indiana' 0]\n",
      " [0.29223567212546 'Iona' 0]\n",
      " [1.0034549654170872 'Iowa State' 0]\n",
      " [0.717897997149322 'Iowa' 0]\n",
      " [1.883355681890058 'Kansas' 0]\n",
      " [1.511158791626345 'Kentucky' 0]\n",
      " [1.1241823839407763 'Maryland' 0]\n",
      " [0.9153699298146565 'Miami (FL)' 0]\n",
      " [1.9746095572676765 'Michigan State' 0]\n",
      " [0.8610495556504798 'Michigan' 0]\n",
      " [0.21220058763759653 'Middle Tennessee' 0]\n",
      " [0.32515295263897315 'North Carolina-Asheville' 0]\n",
      " [0.4711127390216716 'North Carolina-Wilmington' 0]\n",
      " [2.0022893546443488 'UNC' 0]\n",
      " [0.3875982051842177 'Northern Iowa' 0]\n",
      " [0.64603641659729 'Notre Dame' 0]\n",
      " [1.244529210555977 'Oklahoma' 0]\n",
      " [0.07512935455714187 'Oregon State' 0]\n",
      " [1.4338366946540608 'Oregon' 0]\n",
      " [0.7223697690731941 'Pitt' 0]\n",
      " [0.6702811689128625 'Providence' 0]\n",
      " [1.6158741004053256 'Purdue' 0]\n",
      " [1.0850176084922891 \"St. Joseph's\" 0]\n",
      " [1.0124642497458503 'Seton Hall' 0]\n",
      " [0.5116134489282089 'South Dakota State' 0]\n",
      " [0.9502043280240455 'USC' 0]\n",
      " [0.6557926478500042 'Stephen F. Austin' 0]\n",
      " [0.4614964219725497 'Stony Brook' 0]\n",
      " [0.3985454011252805 'Syracuse' 0]\n",
      " [0.2097188162118635 'Temple' 0]\n",
      " [1.3777320864440261 'Texas A&M' 0]\n",
      " [0.13778577643653245 'Texas Tech' 0]\n",
      " [0.3588195303681876 'Texas' 0]\n",
      " [1.2944640524377968 'Utah' 0]\n",
      " [1.620111133229817 'Villanova' 0]\n",
      " [1.1902995839880548 'VCU' 0]\n",
      " [1.1168646859798095 'Virginia' 0]\n",
      " [0.39202170050932716 'Weber State' 0]\n",
      " [1.5884872868609747 'West Virginia' 0]\n",
      " [0.9858190305393659 'Wichita State' 0]\n",
      " [0.2995231835905394 'Wisconsin' 0]\n",
      " [1.1781277189412291 'Xavier' 0]\n",
      " [-0.3468922245633612 'Yale' 0]]\n"
     ]
    }
   ],
   "source": [
    "win_model_plus = LassoCV(max_iter = 10000, alphas = np.logspace(-4, -0.5, 30))\n",
    "win_model_plus.fit(train_X, train_y)\n",
    "print(win_model_plus.score(train_X, train_y))\n",
    "print(np.column_stack([win_model_plus.predict(test_X),\\\n",
    "                       test_df.Name, test_df.Wins]))"
   ]
  },
  {
   "cell_type": "code",
   "execution_count": null,
   "metadata": {
    "collapsed": false
   },
   "outputs": [],
   "source": [
    "#Won't converge, so don't run!\n",
    "\n",
    "step_size = 0.1\n",
    "possible_l1_ratios = np.arange(0, 1 + step_size, step = step_size)\n",
    "length_of_path = 10 ** -7\n",
    "num_possible_alphas = 10\n",
    "number_folds = 10\n",
    "selection_strategy = 'cyclic'\n",
    "num_possible_iterations = 500000\n",
    "elastic_model = ElasticNetCV(l1_ratio = possible_l1_ratios,\\\n",
    "                             eps = length_of_path,\\\n",
    "                             n_alphas = num_possible_alphas,\\\n",
    "                             cv = number_folds,\\\n",
    "                             selection = selection_strategy,\\\n",
    "                             max_iter = num_possible_iterations)\n",
    "elastic_model.fit(train_X, train_y)\n",
    "print(elastic_model.score(train_X, train_y))\n",
    "mapping = {list(test_df.Name)[i] : list(elastic_model.predict(test_X))[i] for i in range(len(list(test_df.Name)))}"
   ]
  },
  {
   "cell_type": "code",
   "execution_count": null,
   "metadata": {
    "collapsed": false
   },
   "outputs": [],
   "source": [
    "#svr = GridSearchCV(SVR(kernel = 'poly'), cv = 5,\\\n",
    "#                   param_grid = {\"C\" : np.logspace(0, 4, 5),\\\n",
    "#                                 \"gamma\" : np.logspace(-2, 2, 5)})\n",
    "#                   param_grid = {\"degree\" : [0, 1, 2, 3, 4, 5, 6, 7, 8, 9]})\n",
    "svr = SVR(kernel = \"rbf\", C = 1, gamma = 0.1)\n",
    "svr.fit(train_X, train_y)\n",
    "print(svr.score(train_X, train_y), svr.score(test_X, test_y))\n",
    "mapping = {list(test_df.Name)[i] : list(svr.predict(test_X))[i] for i in range(len(list(test_df.Name)))}"
   ]
  }
 ],
 "metadata": {
  "kernelspec": {
   "display_name": "Python 3",
   "language": "python",
   "name": "python3"
  },
  "language_info": {
   "codemirror_mode": {
    "name": "ipython",
    "version": 3
   },
   "file_extension": ".py",
   "mimetype": "text/x-python",
   "name": "python",
   "nbconvert_exporter": "python",
   "pygments_lexer": "ipython3",
   "version": "3.4.3"
  }
 },
 "nbformat": 4,
 "nbformat_minor": 0
}
